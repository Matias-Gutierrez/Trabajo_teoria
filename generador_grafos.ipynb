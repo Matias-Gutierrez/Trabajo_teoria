{
 "cells": [
  {
   "cell_type": "code",
   "execution_count": 26,
   "metadata": {},
   "outputs": [],
   "source": [
    "import random\n",
    "rango = 1000\n",
    "with open(\"g4_4.csv\",\"w\") as arc:\n",
    "    matriz = [[0 for _ in range(rango)] for _ in range(rango)]\n",
    "    for i in range(rango):\n",
    "        for j in range(rango):\n",
    "            if matriz[j][i]==0 and i!=j:\n",
    "                matriz[i][j] = random.randint(1, 50)\n",
    "            elif matriz[j][i]!=0:\n",
    "                matriz[i][j]=matriz[j][i]\n",
    "            \n",
    "            arc.write(str(matriz[i][j]))\n",
    "            if(j<rango):\n",
    "                arc.write(\";\")\n",
    "        arc.write('\\n')\n",
    "    \n"
   ]
  }
 ],
 "metadata": {
  "kernelspec": {
   "display_name": "Python 3",
   "language": "python",
   "name": "python3"
  },
  "language_info": {
   "codemirror_mode": {
    "name": "ipython",
    "version": 3
   },
   "file_extension": ".py",
   "mimetype": "text/x-python",
   "name": "python",
   "nbconvert_exporter": "python",
   "pygments_lexer": "ipython3",
   "version": "3.10.7"
  }
 },
 "nbformat": 4,
 "nbformat_minor": 2
}
