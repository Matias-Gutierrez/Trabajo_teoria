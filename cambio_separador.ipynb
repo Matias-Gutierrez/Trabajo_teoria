{
 "cells": [
  {
   "cell_type": "code",
   "execution_count": 1,
   "metadata": {},
   "outputs": [],
   "source": [
    "nombrearchivo = \"g1_1\"\n",
    "with open(nombrearchivo+\".csv\", \"r\") as lectu:\n",
    "    with open(nombrearchivo+\"v2.csv\",\"w\") as write:\n",
    "        for lect in lectu:\n",
    "            write.write(lect.replace(';',','))\n"
   ]
  }
 ],
 "metadata": {
  "kernelspec": {
   "display_name": "Python 3",
   "language": "python",
   "name": "python3"
  },
  "language_info": {
   "codemirror_mode": {
    "name": "ipython",
    "version": 3
   },
   "file_extension": ".py",
   "mimetype": "text/x-python",
   "name": "python",
   "nbconvert_exporter": "python",
   "pygments_lexer": "ipython3",
   "version": "3.10.7"
  }
 },
 "nbformat": 4,
 "nbformat_minor": 2
}
